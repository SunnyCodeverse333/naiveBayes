{
 "cells": [
  {
   "cell_type": "code",
   "execution_count": 1,
   "id": "13bbf7e5-5bf9-4cc3-91bb-a0bd1510fdae",
   "metadata": {},
   "outputs": [
    {
     "name": "stdout",
     "output_type": "stream",
     "text": [
      "Requirement already satisfied: numpy in c:\\users\\hp\\anaconda3\\lib\\site-packages (1.26.4)\n",
      "Note: you may need to restart the kernel to use updated packages.\n"
     ]
    }
   ],
   "source": [
    "pip install numpy"
   ]
  },
  {
   "cell_type": "code",
   "execution_count": 2,
   "id": "d892bf98-b0eb-455c-b2e5-426855d9a7a7",
   "metadata": {},
   "outputs": [],
   "source": [
    "import numpy as np"
   ]
  },
  {
   "cell_type": "code",
   "execution_count": 3,
   "id": "4e89fdaf-9dc8-4b27-b487-13ff969b9269",
   "metadata": {},
   "outputs": [],
   "source": [
    "k=np.array([1,2,3,4])"
   ]
  },
  {
   "cell_type": "code",
   "execution_count": 4,
   "id": "09909ddb-5692-4bec-ad51-2850ece94bd1",
   "metadata": {},
   "outputs": [
    {
     "name": "stdout",
     "output_type": "stream",
     "text": [
      "[1 2 3 4]\n"
     ]
    }
   ],
   "source": [
    "print(k)"
   ]
  },
  {
   "cell_type": "code",
   "execution_count": 5,
   "id": "d7000cbb-c8f9-41c1-9b75-482f3e76574b",
   "metadata": {},
   "outputs": [],
   "source": [
    "import pandas as pd"
   ]
  },
  {
   "cell_type": "code",
   "execution_count": 8,
   "id": "c3f0f174-1ae0-417d-b3a2-dd5a5dfdc769",
   "metadata": {},
   "outputs": [
    {
     "name": "stdout",
     "output_type": "stream",
     "text": [
      "Requirement already satisfied: seaborn in c:\\users\\hp\\anaconda3\\lib\\site-packages (0.12.2)\n",
      "Requirement already satisfied: numpy!=1.24.0,>=1.17 in c:\\users\\hp\\anaconda3\\lib\\site-packages (from seaborn) (1.26.4)\n",
      "Requirement already satisfied: pandas>=0.25 in c:\\users\\hp\\anaconda3\\lib\\site-packages (from seaborn) (2.1.4)\n",
      "Requirement already satisfied: matplotlib!=3.6.1,>=3.1 in c:\\users\\hp\\anaconda3\\lib\\site-packages (from seaborn) (3.8.0)\n",
      "Requirement already satisfied: contourpy>=1.0.1 in c:\\users\\hp\\anaconda3\\lib\\site-packages (from matplotlib!=3.6.1,>=3.1->seaborn) (1.2.0)\n",
      "Requirement already satisfied: cycler>=0.10 in c:\\users\\hp\\anaconda3\\lib\\site-packages (from matplotlib!=3.6.1,>=3.1->seaborn) (0.11.0)\n",
      "Requirement already satisfied: fonttools>=4.22.0 in c:\\users\\hp\\anaconda3\\lib\\site-packages (from matplotlib!=3.6.1,>=3.1->seaborn) (4.25.0)\n",
      "Requirement already satisfied: kiwisolver>=1.0.1 in c:\\users\\hp\\anaconda3\\lib\\site-packages (from matplotlib!=3.6.1,>=3.1->seaborn) (1.4.4)\n",
      "Requirement already satisfied: packaging>=20.0 in c:\\users\\hp\\anaconda3\\lib\\site-packages (from matplotlib!=3.6.1,>=3.1->seaborn) (23.1)\n",
      "Requirement already satisfied: pillow>=6.2.0 in c:\\users\\hp\\anaconda3\\lib\\site-packages (from matplotlib!=3.6.1,>=3.1->seaborn) (10.2.0)\n",
      "Requirement already satisfied: pyparsing>=2.3.1 in c:\\users\\hp\\anaconda3\\lib\\site-packages (from matplotlib!=3.6.1,>=3.1->seaborn) (3.0.9)\n",
      "Requirement already satisfied: python-dateutil>=2.7 in c:\\users\\hp\\anaconda3\\lib\\site-packages (from matplotlib!=3.6.1,>=3.1->seaborn) (2.8.2)\n",
      "Requirement already satisfied: pytz>=2020.1 in c:\\users\\hp\\anaconda3\\lib\\site-packages (from pandas>=0.25->seaborn) (2023.3.post1)\n",
      "Requirement already satisfied: tzdata>=2022.1 in c:\\users\\hp\\anaconda3\\lib\\site-packages (from pandas>=0.25->seaborn) (2023.3)\n",
      "Requirement already satisfied: six>=1.5 in c:\\users\\hp\\anaconda3\\lib\\site-packages (from python-dateutil>=2.7->matplotlib!=3.6.1,>=3.1->seaborn) (1.16.0)\n",
      "Note: you may need to restart the kernel to use updated packages.\n"
     ]
    }
   ],
   "source": [
    "pip install seaborn"
   ]
  },
  {
   "cell_type": "code",
   "execution_count": 9,
   "id": "607c01f5-b240-44f9-993b-d25ecdba8ff9",
   "metadata": {},
   "outputs": [
    {
     "name": "stdout",
     "output_type": "stream",
     "text": [
      "hello\n"
     ]
    }
   ],
   "source": [
    "print(\"hello\")"
   ]
  },
  {
   "cell_type": "code",
   "execution_count": 2,
   "id": "50602167-6ef9-464c-b3ef-7dcad3bdb948",
   "metadata": {},
   "outputs": [
    {
     "name": "stdout",
     "output_type": "stream",
     "text": [
      "Number of emails: 5728\n",
      "Proportion of spam emails: 0.2388\n",
      "Proportion of ham emails: 0.7612\n",
      "['re : energy derivatives conference - may 29 , toronto  good morning amy :  vince kaminski will need the following :  an lcd projector to hook up to a lap tap for his presentation  he will have dinner with the conference organizers and speakers on the 29 th .  he will need 2 nights ( the 28 th and the 29 th ) hotel reservations .  he will send you an abstract shortly .  thanks and have a great day !  shirley crenshaw  713 - 853 - 5290  amy aldous on 03 / 31 / 2000 10 : 50 : 11 am  to : shirley . crenshaw @ enron . com  cc :  subject : re : energy derivatives conference - may 29 , toronto  ms . crenshaw ,  thank you for sending the bio so quickly . it \\' s exactly what i was looking  for .  we are planning to compile the conference speakers \\' papers for distribution  to the participants . while i will not need dr . kaminski \\' s contribution for  several weeks , an abstract of his presentation as soon as possible would be  very useful to the conference organizers .  i will also need the following information :  - dr . kaminski \\' s audio / video equipment requirements for his presentation  - will he be joining the conference organizers and speakers for dinner on  may 29 ?  - which nights will he be staying in toronto ? i will reserve a room at the  conference hotel  - any dietary restrictions or special requests  your help is much appreciated .  best wishes ,  amy  at 11 : 50 am 3 / 30 / 00 - 0600 , you wrote :  >  > amy :  >  > attached please find a short \" bio \" for dr . kaminski . please let me know  > if i can help further .  >  >  > ( see attached file : vincent kaminski bio . doc )  * * * * * * * * * * * * * * * * * * * * * * * * * * * * * * * * * * * * * *  amy aldous , conference co - ordinator  centre for advanced studies in finance  university of waterloo  waterloo , on n 2 l 3 gl  tel : ( 519 ) 888 - 4567 ext . 5728  fax : ( 519 ) 888 - 7562  email : aaldous @ uwaterloo . ca  * * * * * * * * * * * * * * * * * * * * * * * * * * * * * * * * * * * * * *'\n",
      " 'financial maths course , part 2  vince ,  just in case , here is a draft copy of the event for you to refer to .  paul  - finmathmail . doc'\n",
      " 're : bullet points  please respond to hi vince ,  thanks for the bullets . regarding power 2001 , it certainly does promise to  be a very interesting event .  have a great week ,  paul  - - - - - original message - - - - -  from : vince . j . kaminski @ enron . com [ mailto : vince . j . kaminski @ enron . com ]  sent : monday , april 09 , 2001 9 : 11 am  to : pbristow @ riskwaters . com  cc : vince . j . kaminski @ enron . com ; vkaminski @ aol . com  subject : bullet points  paul ,  i am sending you modified bullet points . the modifications are in red .  apologies for a delay in responding to your messages .  by the way , power 2001 gets only more and more interesting every day .  vince  ( see attached file : financial maths draft . doc )'\n",
      " 're : enron default swaps  darrell ,  i am sending you 2 technical notes on enron default swaps : i hope that they  will  be useful . i shall read the articles on weekend . i am curious if you  find these explanations satisfactory .  we are very slow in preparing a number of technical documents  for you for model reviews . we still hope you will be able  to find some time to review our credit models ( for our london  credit trading ) and var and option pricing related models .  also , please check your invoices . i still think we owe you money .  vince  darrell duffie on 03 / 28 / 2001 08 : 07 : 38 am  to : vince j kaminski  cc :  subject : re : enron default swaps  vince : according to a bank of america  publication , your ( enron ) default swap spreads  are consistently trading about 80  basis points wider than your asset swaps .  any idea of what is going on here ?  thanks for any guidance , darrell  darrell duffie  mail gsb stanford ca 94305 - 5015 usa  phone 650 723 1976  fax 650 725 7979  email duffie @ stanford . edu  web http : / / www . stanford . edu / ~ duffie / '\n",
      " 're : power question  steve ,  elena chilkina can give you historical data .  historical fwd curves can be obtained from paulo  or alex , among others . of course , our internal forward curves  represent a very sensitive information .  vince  steven leppard  10 / 13 / 2000 10 : 34 am  to : vince j kaminski / hou / ect @ ect  cc : didier magne / lon / ect @ ect  subject : power question  hi vince  who should i contact for power queries now grant has gone ? a colleague here  in london ( didier magne ) is giving a talk on power / gas arbitrage , and the  consequent convergence of these markets .  do you have any presentations on this area , or illustrative figures on the  increase in power / gas correlation ?  many thanks ,  steve']\n",
      "[0 0 0 0 0]\n",
      "Email index 30: karthik rajan - interview schedule  attached you will find the interview packet for the above - referenced person .  the interview will happen friday , march 30 , 2001 . please print all three  documents for your hard copies . if you have any questions , or conflicts of  schedule , please do not hesitate to contact me .  sasha divelbiss  58714\n",
      "\n",
      "\n",
      "Class: 0\n",
      "Email before preprocessing: marketing for your espeak session  vince :  thanks for your time earlier this week ; i ' m looking forward to your espeak  event .  sarah and i met with our etv contact yesterday , and we will be able to put a  bulleted list on the elevator screens to advertise your espeak . please let  me know what you would like us to post for you , and we will do the rest !  we also have plans to market specifically to the trader community here at  enron , so you should get a high participation rate , especially from those  groups .  thanks , again .  - er\n",
      "Email after preprocessing: ['marketing', 'espeak', 'session', 'vince', 'thanks', 'time', 'earlier', 'week', 'looking', 'forward', 'espeak', 'event', 'sarah', 'met', 'etv', 'contact', 'yesterday', 'able', 'put', 'bulleted', 'list', 'elevator', 'screens', 'advertise', 'espeak', 'please', 'let', 'know', 'would', 'like', 'us', 'post', 'rest', 'also', 'plans', 'market', 'specifically', 'trader', 'community', 'enron', 'get', 'high', 'participation', 'rate', 'especially', 'groups', 'thanks', 'er']\n",
      "Proportion of spam in train dataset: 0.2431\n",
      "Proportion of spam in test dataset: 0.2216\n",
      "{'ham': 3468, 'spam': 1114}\n",
      "The proportion of spam emails in training is: 0.2431\n",
      "P(lottery | spam) = 0.00718132854578097\n",
      "P(lottery | ham) = 0.0\n",
      "P(schedule | spam) = 0.00807899461400359\n",
      "P(schedule | ham) = 0.10265282583621683\n",
      "Email: Click here to win a lottery ticket and claim your prize!\n",
      "Email after preprocessing: ['click', 'win', 'lottery', 'ticket', 'claim', 'prize']\n",
      "Naive Bayes predicts this email as: 1\n",
      "Email: Our meeting will happen in the main office. Please be there in time.\n",
      "Email after preprocessing: ['meeting', 'happen', 'main', 'office', 'please', 'time']\n",
      "Naive Bayes predicts this email as: 0\n",
      "Y_test and Y_pred matches in length? Answer: True\n",
      "The number of true positives is: 243\n",
      "The number of true negatives is: 615\n",
      "Accuracy: 0.7487\n"
     ]
    }
   ],
   "source": [
    "import numpy as np\n",
    "import pandas as pd\n",
    "from nltk.corpus import stopwords\n",
    "from nltk import word_tokenize\n",
    "import string\n",
    "\n",
    "# Load the email data\n",
    "dataframe_emails = pd.read_csv('emails.csv')\n",
    "dataframe_emails.head()\n",
    "\n",
    "# Print basic statistics\n",
    "print(f\"Number of emails: {len(dataframe_emails)}\")\n",
    "print(f\"Proportion of spam emails: {dataframe_emails.spam.sum()/len(dataframe_emails):.4f}\")\n",
    "print(f\"Proportion of ham emails: {1 - dataframe_emails.spam.sum()/len(dataframe_emails):.4f}\")\n",
    "\n",
    "def preprocess_emails(df):\n",
    "    \"\"\"\n",
    "    Preprocesses email data from a DataFrame.\n",
    "    \"\"\"\n",
    "    df = df.sample(frac=1, ignore_index=True, random_state=42)\n",
    "    X = df.text.apply(lambda x: x[9:]).to_numpy()  # Removing the \"Subject:\" prefix\n",
    "    Y = df.spam.to_numpy()\n",
    "    return X, Y\n",
    "\n",
    "X, Y = preprocess_emails(dataframe_emails)\n",
    "\n",
    "print(X[:5])\n",
    "print(Y[:5])\n",
    "\n",
    "email_index = 30\n",
    "print(f\"Email index {email_index}: {X[email_index]}\\n\\n\")\n",
    "print(f\"Class: {Y[email_index]}\")\n",
    "\n",
    "def preprocess_text(X):\n",
    "    \"\"\"\n",
    "    Preprocesses a collection of text data by removing stopwords and punctuation.\n",
    "    \"\"\"\n",
    "    stop = set(stopwords.words('english') + list(string.punctuation))\n",
    "    if isinstance(X, str):\n",
    "        X = np.array([X])\n",
    "    X_preprocessed = []\n",
    "    for email in X:\n",
    "        email = [i.lower() for i in word_tokenize(email) if i.lower() not in stop]\n",
    "        X_preprocessed.append(email)\n",
    "    return X_preprocessed\n",
    "\n",
    "# This function may take a few seconds to run.\n",
    "X_treated = preprocess_text(X)\n",
    "\n",
    "email_index = 989\n",
    "print(f\"Email before preprocessing: {X[email_index]}\")\n",
    "print(f\"Email after preprocessing: {X_treated[email_index]}\")\n",
    "\n",
    "# Split data into train and test sets\n",
    "TRAIN_SIZE = int(0.80 * len(X_treated))  # 80% for training\n",
    "X_train = X_treated[:TRAIN_SIZE]\n",
    "Y_train = Y[:TRAIN_SIZE]\n",
    "X_test = X_treated[TRAIN_SIZE:]\n",
    "Y_test = Y[TRAIN_SIZE:]\n",
    "\n",
    "print(f\"Proportion of spam in train dataset: {sum(Y_train == 1) / len(Y_train):.4f}\")\n",
    "print(f\"Proportion of spam in test dataset: {sum(Y_test == 1) / len(Y_test):.4f}\")\n",
    "\n",
    "def get_word_frequency(X, Y):\n",
    "    \"\"\"\n",
    "    Calculate the frequency of each word in a set of emails categorized as spam (1) or not spam (0).\n",
    "    \"\"\"\n",
    "    word_dict = {}\n",
    "    num_emails = len(X)\n",
    "\n",
    "    for i in range(num_emails):\n",
    "        email = X[i]\n",
    "        cls = Y[i]\n",
    "        email_set = set(email)  # Avoid duplicates\n",
    "        for word in email_set:\n",
    "            if word not in word_dict:\n",
    "                word_dict[word] = {'spam': 0, 'ham': 0}\n",
    "            if cls == 0:  # ham\n",
    "                word_dict[word]['ham'] += 1\n",
    "            else:  # spam\n",
    "                word_dict[word]['spam'] += 1\n",
    "\n",
    "    return word_dict\n",
    "\n",
    "word_frequency = get_word_frequency(X_train, Y_train)\n",
    "\n",
    "# Class frequency\n",
    "class_frequency = {'ham': sum(Y_train == 0), 'spam': sum(Y_train == 1)}\n",
    "\n",
    "print(class_frequency)\n",
    "\n",
    "# Proportion of spam in the training dataset\n",
    "proportion_spam = class_frequency['spam'] / (class_frequency['ham'] + class_frequency['spam'])\n",
    "print(f\"The proportion of spam emails in training is: {proportion_spam:.4f}\")\n",
    "\n",
    "def prob_word_given_class(word, cls, word_frequency, class_frequency):\n",
    "    \"\"\"\n",
    "    Calculate the conditional probability of a given word occurring in a specific class.\n",
    "    \"\"\"\n",
    "    if cls == 'spam':\n",
    "        amount_word_and_class = word_frequency.get(word, {'spam': 0})['spam']\n",
    "    else:\n",
    "        amount_word_and_class = word_frequency.get(word, {'ham': 0})['ham']\n",
    "    \n",
    "    p_word_given_class = amount_word_and_class / class_frequency[cls]\n",
    "    return p_word_given_class\n",
    "\n",
    "print(f\"P(lottery | spam) = {prob_word_given_class('lottery', cls='spam', word_frequency=word_frequency, class_frequency=class_frequency)}\")\n",
    "print(f\"P(lottery | ham) = {prob_word_given_class('lottery', cls='ham', word_frequency=word_frequency, class_frequency=class_frequency)}\")\n",
    "print(f\"P(schedule | spam) = {prob_word_given_class('schedule', cls='spam', word_frequency=word_frequency, class_frequency=class_frequency)}\")\n",
    "print(f\"P(schedule | ham) = {prob_word_given_class('schedule', cls='ham', word_frequency=word_frequency, class_frequency=class_frequency)}\")\n",
    "\n",
    "def prob_email_given_class(treated_email, cls, word_frequency, class_frequency):\n",
    "    \"\"\"\n",
    "    Calculate the probability of an email being of a certain class based on treated email content.\n",
    "    \"\"\"\n",
    "    prob = 1\n",
    "    for word in treated_email:\n",
    "        if word in word_frequency:\n",
    "            prob *= prob_word_given_class(word, cls, word_frequency, class_frequency)\n",
    "    return prob\n",
    "\n",
    "def naive_bayes(treated_email, word_frequency, class_frequency, return_likelihood=False):    \n",
    "    \"\"\"\n",
    "    Naive Bayes classifier for spam detection.\n",
    "    \"\"\"\n",
    "    prob_email_given_spam = prob_email_given_class(treated_email, 'spam', word_frequency, class_frequency)\n",
    "    prob_email_given_ham = prob_email_given_class(treated_email, 'ham', word_frequency, class_frequency)\n",
    "    \n",
    "    p_spam = class_frequency['spam'] / (class_frequency['ham'] + class_frequency['spam'])\n",
    "    p_ham = class_frequency['ham'] / (class_frequency['ham'] + class_frequency['spam'])\n",
    "    \n",
    "    spam_likelihood = p_spam * prob_email_given_spam\n",
    "    ham_likelihood = p_ham * prob_email_given_ham\n",
    "    \n",
    "    if return_likelihood:\n",
    "        return (spam_likelihood, ham_likelihood)\n",
    "    \n",
    "    return 1 if spam_likelihood >= ham_likelihood else 0\n",
    "\n",
    "# Test the classifier\n",
    "example_email = \"Click here to win a lottery ticket and claim your prize!\"\n",
    "treated_email = preprocess_text(example_email)[0]  # Get the first (and only) element of the list\n",
    "print(f\"Email: {example_email}\\nEmail after preprocessing: {treated_email}\\nNaive Bayes predicts this email as: {naive_bayes(treated_email, word_frequency, class_frequency)}\")\n",
    "\n",
    "example_email = \"Our meeting will happen in the main office. Please be there in time.\"\n",
    "treated_email = preprocess_text(example_email)[0]\n",
    "print(f\"Email: {example_email}\\nEmail after preprocessing: {treated_email}\\nNaive Bayes predicts this email as: {naive_bayes(treated_email, word_frequency, class_frequency)}\")\n",
    "\n",
    "def get_true_positives(Y_true, Y_pred):\n",
    "    \"\"\"\n",
    "    Calculate the number of true positive instances in binary classification.\n",
    "    \"\"\"\n",
    "    if len(Y_true) != len(Y_pred):\n",
    "        return \"Number of true labels and predicted labels must match!\"\n",
    "    \n",
    "    true_positives = sum(1 for true, pred in zip(Y_true, Y_pred) if true == 1 and pred == 1)\n",
    "    return true_positives\n",
    "\n",
    "def get_true_negatives(Y_true, Y_pred):\n",
    "    \"\"\"\n",
    "    Calculate the number of true negative instances in binary classification.\n",
    "    \"\"\"\n",
    "    if len(Y_true) != len(Y_pred):\n",
    "        return \"Number of true labels and predicted labels must match!\"\n",
    "    \n",
    "    true_negatives = sum(1 for true, pred in zip(Y_true, Y_pred) if true == 0 and pred == 0)\n",
    "    return true_negatives\n",
    "\n",
    "# Predictions for the test set\n",
    "Y_pred = [naive_bayes(email, word_frequency, class_frequency) for email in X_test]\n",
    "\n",
    "print(f\"Y_test and Y_pred matches in length? Answer: {len(Y_pred) == len(Y_test)}\")\n",
    "\n",
    "true_positives = get_true_positives(Y_test, Y_pred)\n",
    "true_negatives = get_true_negatives(Y_test, Y_pred)\n",
    "\n",
    "print(f\"The number of true positives is: {true_positives}\\nThe number of true negatives is: {true_negatives}\")\n",
    "\n",
    "# Compute the accuracy\n",
    "accuracy = (true_positives + true_negatives) / len(Y_test)\n",
    "print(f\"Accuracy: {accuracy:.4f}\")\n"
   ]
  }
 ],
 "metadata": {
  "kernelspec": {
   "display_name": "Python 3 (ipykernel)",
   "language": "python",
   "name": "python3"
  },
  "language_info": {
   "codemirror_mode": {
    "name": "ipython",
    "version": 3
   },
   "file_extension": ".py",
   "mimetype": "text/x-python",
   "name": "python",
   "nbconvert_exporter": "python",
   "pygments_lexer": "ipython3",
   "version": "3.11.7"
  }
 },
 "nbformat": 4,
 "nbformat_minor": 5
}
